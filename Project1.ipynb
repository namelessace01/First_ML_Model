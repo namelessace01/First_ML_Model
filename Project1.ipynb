{
 "cells": [
  {
   "cell_type": "code",
   "execution_count": 4,
   "id": "61b0fa66-f2bf-4f6e-9ac5-a855eda6d88c",
   "metadata": {},
   "outputs": [
    {
     "name": "stdout",
     "output_type": "stream",
     "text": [
      "Initialized empty Git repository in C:/Users/Eniiyi Bishop Ajala/Documents/SIWES_TRAINING/Machine-Learning/First_ML_Model/.git/\n",
      "[master (root-commit) d1309e4] first commit\n",
      " 1 file changed, 2 insertions(+)\n",
      " create mode 100644 README.md\n",
      "branch 'main' set up to track 'origin/main'.\n"
     ]
    },
    {
     "name": "stderr",
     "output_type": "stream",
     "text": [
      "To https://github.com/namelessace01/First_ML_Model.git\n",
      " * [new branch]      main -> main\n"
     ]
    }
   ],
   "source": [
    "!echo \"# First_ML_Model\" >> README.md\n",
    "!git init\n",
    "!git add README.md\n",
    "!git commit -m \"first commit\"\n",
    "!git branch -M main\n",
    "!git remote add origin https://github.com/namelessace01/First_ML_Model.git\n",
    "!git push -u origin main"
   ]
  },
  {
   "cell_type": "code",
   "execution_count": 5,
   "id": "c36b3de3-56db-4ba7-9132-fff1da2fd40b",
   "metadata": {},
   "outputs": [],
   "source": [
    "# Importing the necessary libraries\n",
    "import os\n",
    "import pandas as pd\n",
    "import numpy as np\n",
    "import matplotlib.pyplot as plt\n",
    "import seaborn as sns\n",
    "%matplotlib inline"
   ]
  },
  {
   "cell_type": "code",
   "execution_count": 18,
   "id": "60fea15c-21c8-4a96-9480-255d5931df53",
   "metadata": {},
   "outputs": [
    {
     "name": "stderr",
     "output_type": "stream",
     "text": [
      "warning: in the working copy of 'Project1.ipynb', LF will be replaced by CRLF the next time Git touches it\n"
     ]
    },
    {
     "name": "stdout",
     "output_type": "stream",
     "text": [
      "[main 326917b] Checking Datatypes fo Features\n",
      " 1 file changed, 16 insertions(+), 5 deletions(-)\n"
     ]
    },
    {
     "name": "stderr",
     "output_type": "stream",
     "text": [
      "To https://github.com/namelessace01/First_ML_Model.git\n",
      "   eddc019..326917b  main -> main\n"
     ]
    }
   ],
   "source": [
    "!git add Project1.ipynb\n",
    "!git commit -m \"Data Sta\"\n",
    "!git push"
   ]
  },
  {
   "cell_type": "code",
   "execution_count": 8,
   "id": "f0ec715e-49bd-409a-809f-665c50501114",
   "metadata": {},
   "outputs": [
    {
     "name": "stderr",
     "output_type": "stream",
     "text": [
      "warning: in the working copy of 'Project1.ipynb', LF will be replaced by CRLF the next time Git touches it\n",
      "warning: in the working copy of '.ipynb_checkpoints/Project1-checkpoint.ipynb', LF will be replaced by CRLF the next time Git touches it\n",
      "warning: in the working copy of 'vft-count_2019.csv', LF will be replaced by CRLF the next time Git touches it\n"
     ]
    },
    {
     "name": "stdout",
     "output_type": "stream",
     "text": [
      "[main 7db9d67] The Dataset\n",
      " 4 files changed, 586399 insertions(+), 5 deletions(-)\n",
      " create mode 100644 .ipynb_checkpoints/Project1-checkpoint.ipynb\n",
      " create mode 100644 vft-count.csv\n",
      " create mode 100644 vft-count_2019.csv\n"
     ]
    },
    {
     "name": "stderr",
     "output_type": "stream",
     "text": [
      "To https://github.com/namelessace01/First_ML_Model.git\n",
      "   3644a04..7db9d67  main -> main\n"
     ]
    }
   ],
   "source": [
    "!git add .\n",
    "!git commit -m \"The Dataset\"\n",
    "!git push"
   ]
  },
  {
   "cell_type": "code",
   "execution_count": 9,
   "id": "eae6549e-0424-41de-96ba-b821f7fcd49a",
   "metadata": {},
   "outputs": [],
   "source": [
    "# Read the dataset to a pandas dataframe\n",
    "df_USAhousing = pd.read_csv(\"USA_Housing.csv\")"
   ]
  },
  {
   "cell_type": "code",
   "execution_count": 13,
   "id": "5f881a90-9c8d-4663-9bf3-1b0050b8f092",
   "metadata": {},
   "outputs": [
    {
     "data": {
      "text/html": [
       "<div>\n",
       "<style scoped>\n",
       "    .dataframe tbody tr th:only-of-type {\n",
       "        vertical-align: middle;\n",
       "    }\n",
       "\n",
       "    .dataframe tbody tr th {\n",
       "        vertical-align: top;\n",
       "    }\n",
       "\n",
       "    .dataframe thead th {\n",
       "        text-align: right;\n",
       "    }\n",
       "</style>\n",
       "<table border=\"1\" class=\"dataframe\">\n",
       "  <thead>\n",
       "    <tr style=\"text-align: right;\">\n",
       "      <th></th>\n",
       "      <th>Avg. Area Income</th>\n",
       "      <th>Avg. Area House Age</th>\n",
       "      <th>Avg. Area Number of Rooms</th>\n",
       "      <th>Avg. Area Number of Bedrooms</th>\n",
       "      <th>Area Population</th>\n",
       "      <th>Price</th>\n",
       "      <th>Address</th>\n",
       "    </tr>\n",
       "  </thead>\n",
       "  <tbody>\n",
       "    <tr>\n",
       "      <th>0</th>\n",
       "      <td>79545.458574</td>\n",
       "      <td>5.682861</td>\n",
       "      <td>7.009188</td>\n",
       "      <td>4.09</td>\n",
       "      <td>23086.800503</td>\n",
       "      <td>1.059034e+06</td>\n",
       "      <td>208 Michael Ferry Apt. 674\\nLaurabury, NE 3701...</td>\n",
       "    </tr>\n",
       "    <tr>\n",
       "      <th>1</th>\n",
       "      <td>79248.642455</td>\n",
       "      <td>6.002900</td>\n",
       "      <td>6.730821</td>\n",
       "      <td>3.09</td>\n",
       "      <td>40173.072174</td>\n",
       "      <td>1.505891e+06</td>\n",
       "      <td>188 Johnson Views Suite 079\\nLake Kathleen, CA...</td>\n",
       "    </tr>\n",
       "    <tr>\n",
       "      <th>2</th>\n",
       "      <td>61287.067179</td>\n",
       "      <td>5.865890</td>\n",
       "      <td>8.512727</td>\n",
       "      <td>5.13</td>\n",
       "      <td>36882.159400</td>\n",
       "      <td>1.058988e+06</td>\n",
       "      <td>9127 Elizabeth Stravenue\\nDanieltown, WI 06482...</td>\n",
       "    </tr>\n",
       "    <tr>\n",
       "      <th>3</th>\n",
       "      <td>63345.240046</td>\n",
       "      <td>7.188236</td>\n",
       "      <td>5.586729</td>\n",
       "      <td>3.26</td>\n",
       "      <td>34310.242831</td>\n",
       "      <td>1.260617e+06</td>\n",
       "      <td>USS Barnett\\nFPO AP 44820</td>\n",
       "    </tr>\n",
       "    <tr>\n",
       "      <th>4</th>\n",
       "      <td>59982.197226</td>\n",
       "      <td>5.040555</td>\n",
       "      <td>7.839388</td>\n",
       "      <td>4.23</td>\n",
       "      <td>26354.109472</td>\n",
       "      <td>6.309435e+05</td>\n",
       "      <td>USNS Raymond\\nFPO AE 09386</td>\n",
       "    </tr>\n",
       "  </tbody>\n",
       "</table>\n",
       "</div>"
      ],
      "text/plain": [
       "   Avg. Area Income  Avg. Area House Age  Avg. Area Number of Rooms  \\\n",
       "0      79545.458574             5.682861                   7.009188   \n",
       "1      79248.642455             6.002900                   6.730821   \n",
       "2      61287.067179             5.865890                   8.512727   \n",
       "3      63345.240046             7.188236                   5.586729   \n",
       "4      59982.197226             5.040555                   7.839388   \n",
       "\n",
       "   Avg. Area Number of Bedrooms  Area Population         Price  \\\n",
       "0                          4.09     23086.800503  1.059034e+06   \n",
       "1                          3.09     40173.072174  1.505891e+06   \n",
       "2                          5.13     36882.159400  1.058988e+06   \n",
       "3                          3.26     34310.242831  1.260617e+06   \n",
       "4                          4.23     26354.109472  6.309435e+05   \n",
       "\n",
       "                                             Address  \n",
       "0  208 Michael Ferry Apt. 674\\nLaurabury, NE 3701...  \n",
       "1  188 Johnson Views Suite 079\\nLake Kathleen, CA...  \n",
       "2  9127 Elizabeth Stravenue\\nDanieltown, WI 06482...  \n",
       "3                          USS Barnett\\nFPO AP 44820  \n",
       "4                         USNS Raymond\\nFPO AE 09386  "
      ]
     },
     "execution_count": 13,
     "metadata": {},
     "output_type": "execute_result"
    }
   ],
   "source": [
    "# Display the first five values of the dataset\n",
    "# The .head() method naturally displays the first five elements of the table\n",
    "df_USAhousing.head()"
   ]
  },
  {
   "cell_type": "code",
   "execution_count": 15,
   "id": "2b05c142-b8ad-4fb5-b4c1-49fb7c90170b",
   "metadata": {},
   "outputs": [
    {
     "data": {
      "text/plain": [
       "Avg. Area Income                0\n",
       "Avg. Area House Age             0\n",
       "Avg. Area Number of Rooms       0\n",
       "Avg. Area Number of Bedrooms    0\n",
       "Area Population                 0\n",
       "Price                           0\n",
       "Address                         0\n",
       "dtype: int64"
      ]
     },
     "execution_count": 15,
     "metadata": {},
     "output_type": "execute_result"
    }
   ],
   "source": [
    "# The next thing we do is to look for missing values\n",
    "# using the .isnull() method we can find missing values although adding the .sum() method sums all the number of missing values\n",
    "df_USAhousing.isnull().sum()"
   ]
  },
  {
   "cell_type": "code",
   "execution_count": 17,
   "id": "ca440367-e568-4233-9552-d3102a5a43e0",
   "metadata": {},
   "outputs": [
    {
     "name": "stdout",
     "output_type": "stream",
     "text": [
      "<class 'pandas.core.frame.DataFrame'>\n",
      "RangeIndex: 5000 entries, 0 to 4999\n",
      "Data columns (total 7 columns):\n",
      " #   Column                        Non-Null Count  Dtype  \n",
      "---  ------                        --------------  -----  \n",
      " 0   Avg. Area Income              5000 non-null   float64\n",
      " 1   Avg. Area House Age           5000 non-null   float64\n",
      " 2   Avg. Area Number of Rooms     5000 non-null   float64\n",
      " 3   Avg. Area Number of Bedrooms  5000 non-null   float64\n",
      " 4   Area Population               5000 non-null   float64\n",
      " 5   Price                         5000 non-null   float64\n",
      " 6   Address                       5000 non-null   object \n",
      "dtypes: float64(6), object(1)\n",
      "memory usage: 273.6+ KB\n"
     ]
    }
   ],
   "source": [
    "# Next we check for mismatching datatypes in table features, usually datetime but not in this case.\n",
    "# Besides, it's just fun to check what datatypes they are set in\n",
    "df_USAhousing.info()"
   ]
  },
  {
   "cell_type": "code",
   "execution_count": 19,
   "id": "a2ba70f9-0dcd-403a-8720-529393a3b8a1",
   "metadata": {},
   "outputs": [
    {
     "data": {
      "text/html": [
       "<div>\n",
       "<style scoped>\n",
       "    .dataframe tbody tr th:only-of-type {\n",
       "        vertical-align: middle;\n",
       "    }\n",
       "\n",
       "    .dataframe tbody tr th {\n",
       "        vertical-align: top;\n",
       "    }\n",
       "\n",
       "    .dataframe thead th {\n",
       "        text-align: right;\n",
       "    }\n",
       "</style>\n",
       "<table border=\"1\" class=\"dataframe\">\n",
       "  <thead>\n",
       "    <tr style=\"text-align: right;\">\n",
       "      <th></th>\n",
       "      <th>count</th>\n",
       "      <th>mean</th>\n",
       "      <th>std</th>\n",
       "      <th>min</th>\n",
       "      <th>25%</th>\n",
       "      <th>50%</th>\n",
       "      <th>75%</th>\n",
       "      <th>max</th>\n",
       "    </tr>\n",
       "  </thead>\n",
       "  <tbody>\n",
       "    <tr>\n",
       "      <th>Avg. Area Income</th>\n",
       "      <td>5000.0</td>\n",
       "      <td>6.858311e+04</td>\n",
       "      <td>10657.991214</td>\n",
       "      <td>17796.631190</td>\n",
       "      <td>61480.562388</td>\n",
       "      <td>6.880429e+04</td>\n",
       "      <td>7.578334e+04</td>\n",
       "      <td>1.077017e+05</td>\n",
       "    </tr>\n",
       "    <tr>\n",
       "      <th>Avg. Area House Age</th>\n",
       "      <td>5000.0</td>\n",
       "      <td>5.977222e+00</td>\n",
       "      <td>0.991456</td>\n",
       "      <td>2.644304</td>\n",
       "      <td>5.322283</td>\n",
       "      <td>5.970429e+00</td>\n",
       "      <td>6.650808e+00</td>\n",
       "      <td>9.519088e+00</td>\n",
       "    </tr>\n",
       "    <tr>\n",
       "      <th>Avg. Area Number of Rooms</th>\n",
       "      <td>5000.0</td>\n",
       "      <td>6.987792e+00</td>\n",
       "      <td>1.005833</td>\n",
       "      <td>3.236194</td>\n",
       "      <td>6.299250</td>\n",
       "      <td>7.002902e+00</td>\n",
       "      <td>7.665871e+00</td>\n",
       "      <td>1.075959e+01</td>\n",
       "    </tr>\n",
       "    <tr>\n",
       "      <th>Avg. Area Number of Bedrooms</th>\n",
       "      <td>5000.0</td>\n",
       "      <td>3.981330e+00</td>\n",
       "      <td>1.234137</td>\n",
       "      <td>2.000000</td>\n",
       "      <td>3.140000</td>\n",
       "      <td>4.050000e+00</td>\n",
       "      <td>4.490000e+00</td>\n",
       "      <td>6.500000e+00</td>\n",
       "    </tr>\n",
       "    <tr>\n",
       "      <th>Area Population</th>\n",
       "      <td>5000.0</td>\n",
       "      <td>3.616352e+04</td>\n",
       "      <td>9925.650114</td>\n",
       "      <td>172.610686</td>\n",
       "      <td>29403.928702</td>\n",
       "      <td>3.619941e+04</td>\n",
       "      <td>4.286129e+04</td>\n",
       "      <td>6.962171e+04</td>\n",
       "    </tr>\n",
       "    <tr>\n",
       "      <th>Price</th>\n",
       "      <td>5000.0</td>\n",
       "      <td>1.232073e+06</td>\n",
       "      <td>353117.626581</td>\n",
       "      <td>15938.657923</td>\n",
       "      <td>997577.135049</td>\n",
       "      <td>1.232669e+06</td>\n",
       "      <td>1.471210e+06</td>\n",
       "      <td>2.469066e+06</td>\n",
       "    </tr>\n",
       "  </tbody>\n",
       "</table>\n",
       "</div>"
      ],
      "text/plain": [
       "                               count          mean            std  \\\n",
       "Avg. Area Income              5000.0  6.858311e+04   10657.991214   \n",
       "Avg. Area House Age           5000.0  5.977222e+00       0.991456   \n",
       "Avg. Area Number of Rooms     5000.0  6.987792e+00       1.005833   \n",
       "Avg. Area Number of Bedrooms  5000.0  3.981330e+00       1.234137   \n",
       "Area Population               5000.0  3.616352e+04    9925.650114   \n",
       "Price                         5000.0  1.232073e+06  353117.626581   \n",
       "\n",
       "                                       min            25%           50%  \\\n",
       "Avg. Area Income              17796.631190   61480.562388  6.880429e+04   \n",
       "Avg. Area House Age               2.644304       5.322283  5.970429e+00   \n",
       "Avg. Area Number of Rooms         3.236194       6.299250  7.002902e+00   \n",
       "Avg. Area Number of Bedrooms      2.000000       3.140000  4.050000e+00   \n",
       "Area Population                 172.610686   29403.928702  3.619941e+04   \n",
       "Price                         15938.657923  997577.135049  1.232669e+06   \n",
       "\n",
       "                                       75%           max  \n",
       "Avg. Area Income              7.578334e+04  1.077017e+05  \n",
       "Avg. Area House Age           6.650808e+00  9.519088e+00  \n",
       "Avg. Area Number of Rooms     7.665871e+00  1.075959e+01  \n",
       "Avg. Area Number of Bedrooms  4.490000e+00  6.500000e+00  \n",
       "Area Population               4.286129e+04  6.962171e+04  \n",
       "Price                         1.471210e+06  2.469066e+06  "
      ]
     },
     "execution_count": 19,
     "metadata": {},
     "output_type": "execute_result"
    }
   ],
   "source": [
    "# To check for some basic statistical data about the dataset we use the .describe() method\n",
    "# I like using it with the .transpose() method for easier understanding\n",
    "df_USAhousing.describe().transpose()"
   ]
  },
  {
   "cell_type": "code",
   "execution_count": null,
   "id": "bb392395-50f7-4447-a2ad-427f64c8c840",
   "metadata": {},
   "outputs": [],
   "source": []
  }
 ],
 "metadata": {
  "kernelspec": {
   "display_name": "Python 3 (ipykernel)",
   "language": "python",
   "name": "python3"
  },
  "language_info": {
   "codemirror_mode": {
    "name": "ipython",
    "version": 3
   },
   "file_extension": ".py",
   "mimetype": "text/x-python",
   "name": "python",
   "nbconvert_exporter": "python",
   "pygments_lexer": "ipython3",
   "version": "3.8.19"
  }
 },
 "nbformat": 4,
 "nbformat_minor": 5
}
