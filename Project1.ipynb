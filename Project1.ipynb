{
 "cells": [
  {
   "cell_type": "code",
   "execution_count": 4,
   "id": "61b0fa66-f2bf-4f6e-9ac5-a855eda6d88c",
   "metadata": {},
   "outputs": [
    {
     "name": "stdout",
     "output_type": "stream",
     "text": [
      "Initialized empty Git repository in C:/Users/Eniiyi Bishop Ajala/Documents/SIWES_TRAINING/Machine-Learning/First_ML_Model/.git/\n",
      "[master (root-commit) d1309e4] first commit\n",
      " 1 file changed, 2 insertions(+)\n",
      " create mode 100644 README.md\n",
      "branch 'main' set up to track 'origin/main'.\n"
     ]
    },
    {
     "name": "stderr",
     "output_type": "stream",
     "text": [
      "To https://github.com/namelessace01/First_ML_Model.git\n",
      " * [new branch]      main -> main\n"
     ]
    }
   ],
   "source": [
    "!echo \"# First_ML_Model\" >> README.md\n",
    "!git init\n",
    "!git add README.md\n",
    "!git commit -m \"first commit\"\n",
    "!git branch -M main\n",
    "!git remote add origin https://github.com/namelessace01/First_ML_Model.git\n",
    "!git push -u origin main"
   ]
  },
  {
   "cell_type": "code",
   "execution_count": null,
   "id": "c36b3de3-56db-4ba7-9132-fff1da2fd40b",
   "metadata": {},
   "outputs": [],
   "source": [
    "# Importing the necessary libraries\n",
    "import os\n",
    "import pandas as pd\n",
    "import numpy as np\n",
    "import matplotlib.pyplot as plt\n",
    "import s"
   ]
  },
  {
   "cell_type": "code",
   "execution_count": null,
   "id": "60fea15c-21c8-4a96-9480-255d5931df53",
   "metadata": {},
   "outputs": [],
   "source": [
    "!git add Project1.ipynb\n",
    "!git commit -m \"T"
   ]
  }
 ],
 "metadata": {
  "kernelspec": {
   "display_name": "Python 3 (ipykernel)",
   "language": "python",
   "name": "python3"
  },
  "language_info": {
   "codemirror_mode": {
    "name": "ipython",
    "version": 3
   },
   "file_extension": ".py",
   "mimetype": "text/x-python",
   "name": "python",
   "nbconvert_exporter": "python",
   "pygments_lexer": "ipython3",
   "version": "3.8.19"
  }
 },
 "nbformat": 4,
 "nbformat_minor": 5
}
